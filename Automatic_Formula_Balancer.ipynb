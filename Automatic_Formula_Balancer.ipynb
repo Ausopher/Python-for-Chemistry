{
  "nbformat": 4,
  "nbformat_minor": 0,
  "metadata": {
    "colab": {
      "provenance": []
    },
    "kernelspec": {
      "name": "python3",
      "display_name": "Python 3"
    },
    "language_info": {
      "name": "python"
    }
  },
  "cells": [
    {
      "cell_type": "markdown",
      "source": [
        "# Automatic Chemical Formula Balancer\n",
        "- this can be adjusted to most reactions by changing reactants and products\n",
        "- it also can convert mass of 1 reactant into the moles and mass of the rest of the equation"
      ],
      "metadata": {
        "id": "UyLIfE-LqytJ"
      }
    },
    {
      "cell_type": "code",
      "source": [
        "!pip install Chempy"
      ],
      "metadata": {
        "id": "_Aav-WVAce3d"
      },
      "execution_count": null,
      "outputs": []
    },
    {
      "cell_type": "code",
      "source": [
        "from chempy import balance_stoichiometry\n",
        "from chempy import Substance\n",
        "\n",
        "# Snag Chempy because it allows the program to do the heavy lifting\n",
        "\n",
        "reactants = {'KCl', 'Pb(NO3)2'}\n",
        "products = {'PbCl2', 'KNO3'}\n",
        "\n",
        "# Reactants are the inputs to the reaction\n",
        "# Products are the outputs\n",
        "# Make sure that the formulas are properly written otherwise it wont work\n",
        "\n",
        "try:\n",
        "    coeffs_left, coeffs_right = balance_stoichiometry(reactants, products)\n",
        "    equation = \" + \".join(f\"{coeffs_left[r]}{r}\" for r in sorted(reactants)) + \" -> \" + \" + \".join(f\"{coeffs_right[p]}{p}\" for p in sorted(products))\n",
        "    print(f\"{equation}\")\n",
        "except Exception as e:\n",
        "    print(f\"Could not balance the equation: {e}\")\n",
        "\n",
        "reactant_mass_grams = float(input(\"Enter the mass of the starting compound in grams: \"))\n",
        "starting_compound_formula = input(\"Enter the chemical formula of the starting compound: \")\n",
        "\n",
        "# This should allow the user to input the desired mass of a given input\n",
        "\n",
        "starting_compound_substance = Substance.from_formula(starting_compound_formula)\n",
        "\n",
        "# Create a Substance object for the starting compound\n",
        "\n",
        "molar_mass_g_mol = starting_compound_substance.mass\n",
        "\n",
        "# Get the molar mass\n",
        "\n",
        "moles = reactant_mass_grams / molar_mass_g_mol\n",
        "\n",
        "# Calculate the number of moles\n",
        "\n",
        "print(f\"The molar mass of {starting_compound_formula} is {molar_mass_g_mol:.2f} g/mol.\")\n",
        "print(f\"{reactant_mass_grams:.2f} grams of {starting_compound_formula} is equal to {moles:.4f} moles.\")\n",
        "\n",
        "# This tells us the molar mass of the compound and the moles that we have\n",
        "\n",
        "all_coeffs = {**coeffs_left, **coeffs_right}\n",
        "starting_compound_coeff = all_coeffs[starting_compound_formula]\n",
        "\n",
        "moles_of_components = {}\n",
        "for compound, coeff in all_coeffs.items():\n",
        "    moles_of_components[compound] = moles * (coeff / starting_compound_coeff)\n",
        "\n",
        "for compound, calculated_moles in moles_of_components.items():\n",
        "    print(f\"Moles of {compound}: {calculated_moles:.4f}\")\n",
        "\n",
        "# This converts our chemical equation into a usable ratio to spit out precise amounts given our input\n",
        "\n",
        "from chempy import Substance\n",
        "\n",
        "mass_of_components = {}\n",
        "for compound, calculated_moles in moles_of_components.items():\n",
        "    compound_substance = Substance.from_formula(compound)\n",
        "    molar_mass = compound_substance.mass\n",
        "    calculated_mass = calculated_moles * molar_mass\n",
        "    mass_of_components[compound] = calculated_mass\n",
        "\n",
        "for compound, calculated_mass in mass_of_components.items():\n",
        "    print(f\"Mass of {compound}: {calculated_mass:.2f} grams\")\n",
        "\n",
        "# Finally this allows the moles we acquired previously to be converted back into mass\n",
        "# I might be awesome"
      ],
      "metadata": {
        "colab": {
          "base_uri": "https://localhost:8080/"
        },
        "id": "H_VRMpPJUmFd",
        "outputId": "93823c2f-2365-4dfc-c726-6ca43b4a9a77"
      },
      "execution_count": 22,
      "outputs": [
        {
          "output_type": "stream",
          "name": "stdout",
          "text": [
            "2KCl + 1Pb(NO3)2 -> 2KNO3 + 1PbCl2\n",
            "Enter the mass of the starting compound in grams: 89\n",
            "Enter the chemical formula of the starting compound: KCl\n",
            "The molar mass of KCl is 74.55 g/mol.\n",
            "89.00 grams of KCl is equal to 1.1939 moles.\n",
            "Moles of KCl: 1.1939\n",
            "Moles of Pb(NO3)2: 0.5969\n",
            "Moles of KNO3: 1.1939\n",
            "Moles of PbCl2: 0.5969\n",
            "Mass of KCl: 89.00 grams\n",
            "Mass of Pb(NO3)2: 197.71 grams\n",
            "Mass of KNO3: 120.70 grams\n",
            "Mass of PbCl2: 166.01 grams\n"
          ]
        }
      ]
    }
  ]
}